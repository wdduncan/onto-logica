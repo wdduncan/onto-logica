{
 "cells": [
  {
   "cell_type": "code",
   "execution_count": 1,
   "id": "774104c8",
   "metadata": {},
   "outputs": [],
   "source": [
    "from IPython.core.magic import register_cell_magic, register_line_magic\n",
    "from io import StringIO\n",
    "from logica.common import logica_lib\n",
    "import tempfile\n",
    "import sqlite3\n",
    "import pandas as pd\n",
    "import numpy as np\n",
    "import duckdb\n",
    "import logica\n",
    "import sys"
   ]
  },
  {
   "cell_type": "code",
   "execution_count": 2,
   "id": "a9c7736d-f794-454a-ae43-f15ff3f9db70",
   "metadata": {},
   "outputs": [
    {
     "name": "stdout",
     "output_type": "stream",
     "text": [
      "Usage:\n",
      "  logica <l file> <command> <predicate name> [flags]\n",
      "  Commands are:\n",
      "    print: prints the StandardSQL query for the predicate.\n",
      "    run: runs the StandardSQL query on BigQuery with pretty output.\n",
      "    run_to_csv: runs the query on BigQuery with csv output.\n",
      "\n",
      "\n",
      "Example:\n",
      "  python3 logica.py - run GoodIdea <<<' GoodIdea(snack: \"carrots\")'\n"
     ]
    }
   ],
   "source": [
    "! logica help"
   ]
  },
  {
   "cell_type": "code",
   "execution_count": 3,
   "id": "6eb9d83b-634f-4161-b948-b7c9ca60732c",
   "metadata": {},
   "outputs": [
    {
     "name": "stdout",
     "output_type": "stream",
     "text": [
      "Name: logica\n",
      "Version: 1.3.14159265358\n",
      "Summary: Logica language.\n",
      "Home-page: https://github.com/evgskv/logica\n",
      "Author: Evgeny Skvortsov\n",
      "Author-email: logica@evgeny.ninja\n",
      "License: UNKNOWN\n",
      "Location: /Users/duncanw/repos/wdduncan/onto-logica/.venv/lib/python3.11/site-packages\n",
      "Requires: \n",
      "Required-by: \n"
     ]
    }
   ],
   "source": [
    "! pip show logica"
   ]
  },
  {
   "cell_type": "markdown",
   "id": "d75bf6c7-f31a-4d82-999b-2235d491d791",
   "metadata": {},
   "source": [
    "---"
   ]
  },
  {
   "cell_type": "markdown",
   "id": "a7d1a2e8-9945-4168-a461-5f1ca39dfb78",
   "metadata": {},
   "source": [
    "## Simple command line logica program."
   ]
  },
  {
   "cell_type": "code",
   "execution_count": 4,
   "id": "0b90b0c2-3299-4a49-896d-142c062ed5ff",
   "metadata": {},
   "outputs": [
    {
     "name": "stdout",
     "output_type": "stream",
     "text": [
      "SELECT\n",
      "  \"howdy\" AS col0;\n"
     ]
    }
   ],
   "source": [
    "! logica - print Greet <<<'Greet(\"howdy\")'"
   ]
  },
  {
   "cell_type": "markdown",
   "id": "5318f04b-3e97-43dd-adfe-ca0d424efeb7",
   "metadata": {},
   "source": [
    "Attaching a local semsql sqlite database and pull out `OHD` row from `prefix` table."
   ]
  },
  {
   "cell_type": "code",
   "execution_count": 5,
   "id": "5384f095-df97-4781-a549-0b1963b54a91",
   "metadata": {},
   "outputs": [
    {
     "name": "stdout",
     "output_type": "stream",
     "text": [
      "+--------+-------------------------------------+\n",
      "| prefix | base                                |\n",
      "+--------+-------------------------------------+\n",
      "| OHD    | http://purl.obolibrary.org/obo/OHD_ |\n",
      "+--------+-------------------------------------+\n"
     ]
    }
   ],
   "source": [
    "! logica - run Prefix <<<'\\\n",
    "@Engine(\"sqlite\"); \\\n",
    "@AttachDatabase(\"db\", \"../data/dental-material.db\"); \\\n",
    "Prefix(..r) :- prefix(..r), r.prefix == \"OHD\"; '"
   ]
  },
  {
   "cell_type": "markdown",
   "id": "fd2069a6-bb34-43c9-8f2c-ca9616074ed3",
   "metadata": {},
   "source": [
    "---"
   ]
  },
  {
   "cell_type": "markdown",
   "id": "1f32fb97-635f-42dc-bb3c-896435139cb8",
   "metadata": {},
   "source": [
    "## Execute logica in python."
   ]
  },
  {
   "cell_type": "markdown",
   "id": "ff782c73-200b-499f-8820-5b86ac74798e",
   "metadata": {},
   "source": [
    "Call logica program dynamically using `logica_lib.RunPredicateFromString`."
   ]
  },
  {
   "cell_type": "code",
   "execution_count": 6,
   "id": "4eff5673-b4eb-45ab-be2f-d597cd6f4afb",
   "metadata": {},
   "outputs": [],
   "source": [
    "statement = \"\"\"\n",
    "@Engine(\"sqlite\");\n",
    "\n",
    "Test(y: value) :-\n",
    "  value == x * x + 2 * x + 5,\n",
    "  x == 10;\n",
    "\"\"\""
   ]
  },
  {
   "cell_type": "code",
   "execution_count": 7,
   "id": "cba02028-235d-4dc4-bf63-bcf1c054a46d",
   "metadata": {},
   "outputs": [
    {
     "data": {
      "text/html": [
       "<div>\n",
       "<style scoped>\n",
       "    .dataframe tbody tr th:only-of-type {\n",
       "        vertical-align: middle;\n",
       "    }\n",
       "\n",
       "    .dataframe tbody tr th {\n",
       "        vertical-align: top;\n",
       "    }\n",
       "\n",
       "    .dataframe thead th {\n",
       "        text-align: right;\n",
       "    }\n",
       "</style>\n",
       "<table border=\"1\" class=\"dataframe\">\n",
       "  <thead>\n",
       "    <tr style=\"text-align: right;\">\n",
       "      <th></th>\n",
       "      <th>y</th>\n",
       "    </tr>\n",
       "  </thead>\n",
       "  <tbody>\n",
       "    <tr>\n",
       "      <th>0</th>\n",
       "      <td>125</td>\n",
       "    </tr>\n",
       "  </tbody>\n",
       "</table>\n",
       "</div>"
      ],
      "text/plain": [
       "     y\n",
       "0  125"
      ]
     },
     "execution_count": 7,
     "metadata": {},
     "output_type": "execute_result"
    }
   ],
   "source": [
    "logica_lib.RunPredicateFromString(statement, 'Test')"
   ]
  },
  {
   "cell_type": "markdown",
   "id": "91686813-fe93-46dc-8932-247089815f3c",
   "metadata": {},
   "source": [
    "---"
   ]
  },
  {
   "cell_type": "markdown",
   "id": "8f019bc8-d4f0-482b-af6c-074474baca71",
   "metadata": {},
   "source": [
    "## Working with sqlite database."
   ]
  },
  {
   "cell_type": "markdown",
   "id": "ba295d97-4a4b-42e1-8c5c-c4c9230c49b6",
   "metadata": {},
   "source": [
    "Connect to semsql sqlite database dynamically/programatically pull out sdo prefix row."
   ]
  },
  {
   "cell_type": "code",
   "execution_count": 8,
   "id": "3dc094c9-29ce-40d4-8fce-f9e960d9c58b",
   "metadata": {},
   "outputs": [],
   "source": [
    "cn = sqlite3.connect('../data/dental-material.db')"
   ]
  },
  {
   "cell_type": "code",
   "execution_count": 9,
   "id": "5bcc1a76-bc48-4991-ad97-4fef5f80f803",
   "metadata": {},
   "outputs": [
    {
     "data": {
      "text/html": [
       "<div>\n",
       "<style scoped>\n",
       "    .dataframe tbody tr th:only-of-type {\n",
       "        vertical-align: middle;\n",
       "    }\n",
       "\n",
       "    .dataframe tbody tr th {\n",
       "        vertical-align: top;\n",
       "    }\n",
       "\n",
       "    .dataframe thead th {\n",
       "        text-align: right;\n",
       "    }\n",
       "</style>\n",
       "<table border=\"1\" class=\"dataframe\">\n",
       "  <thead>\n",
       "    <tr style=\"text-align: right;\">\n",
       "      <th></th>\n",
       "      <th>prefix</th>\n",
       "      <th>base</th>\n",
       "    </tr>\n",
       "  </thead>\n",
       "  <tbody>\n",
       "    <tr>\n",
       "      <th>0</th>\n",
       "      <td>OHD</td>\n",
       "      <td>http://purl.obolibrary.org/obo/OHD_</td>\n",
       "    </tr>\n",
       "  </tbody>\n",
       "</table>\n",
       "</div>"
      ],
      "text/plain": [
       "  prefix                                 base\n",
       "0    OHD  http://purl.obolibrary.org/obo/OHD_"
      ]
     },
     "execution_count": 9,
     "metadata": {},
     "output_type": "execute_result"
    }
   ],
   "source": [
    "logica_lib.RunPredicateFromString(\"\"\"\n",
    "@Engine(\"sqlite\");\n",
    "\n",
    "Prefix(..r) :- prefix(..r), r.prefix == \"OHD\"; \n",
    "\n",
    "\"\"\", 'Prefix', cn)"
   ]
  },
  {
   "cell_type": "markdown",
   "id": "7f0892f3-57d8-4ad1-a445-26d463629d2e",
   "metadata": {},
   "source": [
    "Find class in ontology with label \"ceramic dental restoration material\"."
   ]
  },
  {
   "cell_type": "code",
   "execution_count": 10,
   "id": "1e134733-2839-4dcd-a41f-dbaa84f1c04b",
   "metadata": {},
   "outputs": [
    {
     "data": {
      "text/html": [
       "<div>\n",
       "<style scoped>\n",
       "    .dataframe tbody tr th:only-of-type {\n",
       "        vertical-align: middle;\n",
       "    }\n",
       "\n",
       "    .dataframe tbody tr th {\n",
       "        vertical-align: top;\n",
       "    }\n",
       "\n",
       "    .dataframe thead th {\n",
       "        text-align: right;\n",
       "    }\n",
       "</style>\n",
       "<table border=\"1\" class=\"dataframe\">\n",
       "  <thead>\n",
       "    <tr style=\"text-align: right;\">\n",
       "      <th></th>\n",
       "      <th>stanza</th>\n",
       "      <th>subject</th>\n",
       "      <th>predicate</th>\n",
       "      <th>object</th>\n",
       "      <th>value</th>\n",
       "      <th>datatype</th>\n",
       "      <th>language</th>\n",
       "    </tr>\n",
       "  </thead>\n",
       "  <tbody>\n",
       "    <tr>\n",
       "      <th>0</th>\n",
       "      <td>OHD:0000135</td>\n",
       "      <td>OHD:0000135</td>\n",
       "      <td>rdfs:label</td>\n",
       "      <td>None</td>\n",
       "      <td>ceramic dental restoration material</td>\n",
       "      <td>None</td>\n",
       "      <td>None</td>\n",
       "    </tr>\n",
       "  </tbody>\n",
       "</table>\n",
       "</div>"
      ],
      "text/plain": [
       "        stanza      subject   predicate object  \\\n",
       "0  OHD:0000135  OHD:0000135  rdfs:label   None   \n",
       "\n",
       "                                 value datatype language  \n",
       "0  ceramic dental restoration material     None     None  "
      ]
     },
     "execution_count": 10,
     "metadata": {},
     "output_type": "execute_result"
    }
   ],
   "source": [
    "logica_lib.RunPredicateFromString(\"\"\"\n",
    "@Engine(\"sqlite\");\n",
    "\n",
    "Material(..r) :- \n",
    "    statements(..r), \n",
    "    r.predicate == \"rdfs:label\", \n",
    "    r.value == \"ceramic dental restoration material\"; \n",
    "\n",
    "\"\"\", 'Material', cn)"
   ]
  },
  {
   "cell_type": "markdown",
   "id": "a6163560-514c-4d11-aaad-f5a0eb28fb03",
   "metadata": {},
   "source": [
    "Find materials is a types of `ceramic dental restoration material`."
   ]
  },
  {
   "cell_type": "code",
   "execution_count": 11,
   "id": "9202a6f7-8619-4cb0-9e1c-02854e161478",
   "metadata": {},
   "outputs": [
    {
     "data": {
      "text/html": [
       "<div>\n",
       "<style scoped>\n",
       "    .dataframe tbody tr th:only-of-type {\n",
       "        vertical-align: middle;\n",
       "    }\n",
       "\n",
       "    .dataframe tbody tr th {\n",
       "        vertical-align: top;\n",
       "    }\n",
       "\n",
       "    .dataframe thead th {\n",
       "        text-align: right;\n",
       "    }\n",
       "</style>\n",
       "<table border=\"1\" class=\"dataframe\">\n",
       "  <thead>\n",
       "    <tr style=\"text-align: right;\">\n",
       "      <th></th>\n",
       "      <th>subject</th>\n",
       "      <th>predicate</th>\n",
       "      <th>object</th>\n",
       "    </tr>\n",
       "  </thead>\n",
       "  <tbody>\n",
       "    <tr>\n",
       "      <th>0</th>\n",
       "      <td>OHD:0001032</td>\n",
       "      <td>rdfs:subClassOf</td>\n",
       "      <td>OHD:0000135</td>\n",
       "    </tr>\n",
       "    <tr>\n",
       "      <th>1</th>\n",
       "      <td>OHD:0001033</td>\n",
       "      <td>rdfs:subClassOf</td>\n",
       "      <td>OHD:0000135</td>\n",
       "    </tr>\n",
       "    <tr>\n",
       "      <th>2</th>\n",
       "      <td>OHD:0001047</td>\n",
       "      <td>rdfs:subClassOf</td>\n",
       "      <td>OHD:0000135</td>\n",
       "    </tr>\n",
       "  </tbody>\n",
       "</table>\n",
       "</div>"
      ],
      "text/plain": [
       "       subject        predicate       object\n",
       "0  OHD:0001032  rdfs:subClassOf  OHD:0000135\n",
       "1  OHD:0001033  rdfs:subClassOf  OHD:0000135\n",
       "2  OHD:0001047  rdfs:subClassOf  OHD:0000135"
      ]
     },
     "execution_count": 11,
     "metadata": {},
     "output_type": "execute_result"
    }
   ],
   "source": [
    "logica_lib.RunPredicateFromString(\"\"\"\n",
    "@Engine(\"sqlite\");\n",
    "\n",
    "Material(subject:, predicate:, object:) :- \n",
    "    statements(subject:, predicate:, object:), \n",
    "    predicate == \"rdfs:subClassOf\", \n",
    "    object == \"OHD:0000135\"; \n",
    "\n",
    "\"\"\", 'Material', cn)"
   ]
  },
  {
   "cell_type": "markdown",
   "id": "0488e934-6525-467e-99d2-552499f29b13",
   "metadata": {},
   "source": [
    "Return labels for the subject and object of `ceramic dental restoration material` classes.  \n",
    "To do this, define a `Label` predicate to find the value of `rdfs:label`."
   ]
  },
  {
   "cell_type": "code",
   "execution_count": 12,
   "id": "7bd3f1c3-f7ee-48e8-8e8c-7b1fa499b1e3",
   "metadata": {},
   "outputs": [
    {
     "data": {
      "text/html": [
       "<div>\n",
       "<style scoped>\n",
       "    .dataframe tbody tr th:only-of-type {\n",
       "        vertical-align: middle;\n",
       "    }\n",
       "\n",
       "    .dataframe tbody tr th {\n",
       "        vertical-align: top;\n",
       "    }\n",
       "\n",
       "    .dataframe thead th {\n",
       "        text-align: right;\n",
       "    }\n",
       "</style>\n",
       "<table border=\"1\" class=\"dataframe\">\n",
       "  <thead>\n",
       "    <tr style=\"text-align: right;\">\n",
       "      <th></th>\n",
       "      <th>subject_label</th>\n",
       "      <th>predicate</th>\n",
       "      <th>object_label</th>\n",
       "    </tr>\n",
       "  </thead>\n",
       "  <tbody>\n",
       "    <tr>\n",
       "      <th>0</th>\n",
       "      <td>glass matrix ceramic dental restoration material</td>\n",
       "      <td>rdfs:subClassOf</td>\n",
       "      <td>ceramic dental restoration material</td>\n",
       "    </tr>\n",
       "    <tr>\n",
       "      <th>1</th>\n",
       "      <td>polycrystalline ceramic</td>\n",
       "      <td>rdfs:subClassOf</td>\n",
       "      <td>ceramic dental restoration material</td>\n",
       "    </tr>\n",
       "    <tr>\n",
       "      <th>2</th>\n",
       "      <td>resin matrix ceramic</td>\n",
       "      <td>rdfs:subClassOf</td>\n",
       "      <td>ceramic dental restoration material</td>\n",
       "    </tr>\n",
       "  </tbody>\n",
       "</table>\n",
       "</div>"
      ],
      "text/plain": [
       "                                      subject_label        predicate  \\\n",
       "0  glass matrix ceramic dental restoration material  rdfs:subClassOf   \n",
       "1                           polycrystalline ceramic  rdfs:subClassOf   \n",
       "2                              resin matrix ceramic  rdfs:subClassOf   \n",
       "\n",
       "                          object_label  \n",
       "0  ceramic dental restoration material  \n",
       "1  ceramic dental restoration material  \n",
       "2  ceramic dental restoration material  "
      ]
     },
     "execution_count": 12,
     "metadata": {},
     "output_type": "execute_result"
    }
   ],
   "source": [
    "logica_lib.RunPredicateFromString(\"\"\"\n",
    "@Engine(\"sqlite\");\n",
    "\n",
    "# function to return the label of a class\n",
    "Label(x) = value :- statements(subject: x, predicate: \"rdfs:label\", value:);\n",
    "    \n",
    "Material(subject_label:, predicate:, object_label:) :- \n",
    "    statements(subject:, predicate:, object:), \n",
    "    predicate == \"rdfs:subClassOf\", \n",
    "    object == \"OHD:0000135\",\n",
    "    subject_label == Label(subject),\n",
    "    object_label == Label(object);\n",
    "\n",
    "\"\"\", 'Material', cn)"
   ]
  },
  {
   "cell_type": "markdown",
   "id": "ff7a57b6-137b-4c52-b204-e04a9b5db45a",
   "metadata": {},
   "source": [
    "Looking at ontology, the above result in not complete. There more subclasses/descendants of `ceramic dental restoration material`. For example, the class `resin matrix ceramic` has subclasses:\n",
    "```\n",
    "resin matrix ceramic\n",
    "- glass ceramic in a resin interpenetrating matrix\n",
    "- resin nano ceramic\n",
    "- zirconia silica ceramic in a resin interpenetrating matrix\n",
    "```\n",
    "To get a more complete result you need to recurse down the `ceramic dental restoration material` branch of the ontology (below)."
   ]
  },
  {
   "cell_type": "markdown",
   "id": "2f1c1009-f682-4bb8-ace1-fddbb3634832",
   "metadata": {},
   "source": [
    "---"
   ]
  },
  {
   "cell_type": "markdown",
   "id": "378d846e-ac2f-45fb-82e9-d1c8be661b51",
   "metadata": {},
   "source": [
    "## Recursively searching table"
   ]
  },
  {
   "cell_type": "markdown",
   "id": "e663cdc2-0b23-4972-bd87-24ff3a522148",
   "metadata": {},
   "source": [
    "This finds all teeth, but also also returns all classifications of teeth; e.g., anterior tooth. If you want to only see specific tooth types (e.g., tooth_1), you have to return only the leaf nodes of the tooth branch (see below)."
   ]
  },
  {
   "cell_type": "code",
   "execution_count": 13,
   "id": "8f291efd-b737-4a99-94b4-d128de8a88b1",
   "metadata": {},
   "outputs": [
    {
     "data": {
      "text/html": [
       "<div>\n",
       "<style scoped>\n",
       "    .dataframe tbody tr th:only-of-type {\n",
       "        vertical-align: middle;\n",
       "    }\n",
       "\n",
       "    .dataframe tbody tr th {\n",
       "        vertical-align: top;\n",
       "    }\n",
       "\n",
       "    .dataframe thead th {\n",
       "        text-align: right;\n",
       "    }\n",
       "</style>\n",
       "<table border=\"1\" class=\"dataframe\">\n",
       "  <thead>\n",
       "    <tr style=\"text-align: right;\">\n",
       "      <th></th>\n",
       "      <th>subject</th>\n",
       "      <th>label</th>\n",
       "    </tr>\n",
       "  </thead>\n",
       "  <tbody>\n",
       "    <tr>\n",
       "      <th>0</th>\n",
       "      <td>OHD:0001032</td>\n",
       "      <td>glass matrix ceramic dental restoration material</td>\n",
       "    </tr>\n",
       "    <tr>\n",
       "      <th>1</th>\n",
       "      <td>OHD:0001033</td>\n",
       "      <td>polycrystalline ceramic</td>\n",
       "    </tr>\n",
       "    <tr>\n",
       "      <th>2</th>\n",
       "      <td>OHD:0001034</td>\n",
       "      <td>zirconia polycrystalline ceramic</td>\n",
       "    </tr>\n",
       "    <tr>\n",
       "      <th>3</th>\n",
       "      <td>OHD:0001035</td>\n",
       "      <td>3Y-TZP zirconia ceramic</td>\n",
       "    </tr>\n",
       "    <tr>\n",
       "      <th>4</th>\n",
       "      <td>OHD:0001036</td>\n",
       "      <td>4Y-PSZ zirconia ceramic</td>\n",
       "    </tr>\n",
       "    <tr>\n",
       "      <th>5</th>\n",
       "      <td>OHD:0001037</td>\n",
       "      <td>≥ 5Y-PSZ zirconia ceramic</td>\n",
       "    </tr>\n",
       "    <tr>\n",
       "      <th>6</th>\n",
       "      <td>OHD:0001038</td>\n",
       "      <td>multichromatic zirconia ceramic</td>\n",
       "    </tr>\n",
       "    <tr>\n",
       "      <th>7</th>\n",
       "      <td>OHD:0001039</td>\n",
       "      <td>multilayered zirconia ceramic</td>\n",
       "    </tr>\n",
       "    <tr>\n",
       "      <th>8</th>\n",
       "      <td>OHD:0001040</td>\n",
       "      <td>polycrystalline composites ceramic</td>\n",
       "    </tr>\n",
       "    <tr>\n",
       "      <th>9</th>\n",
       "      <td>OHD:0001041</td>\n",
       "      <td>zirconia toughened alumina ceramic</td>\n",
       "    </tr>\n",
       "    <tr>\n",
       "      <th>10</th>\n",
       "      <td>OHD:0001046</td>\n",
       "      <td>alumina toughened zirconia ceramic</td>\n",
       "    </tr>\n",
       "    <tr>\n",
       "      <th>11</th>\n",
       "      <td>OHD:0001047</td>\n",
       "      <td>resin matrix ceramic</td>\n",
       "    </tr>\n",
       "    <tr>\n",
       "      <th>12</th>\n",
       "      <td>OHD:0001048</td>\n",
       "      <td>resin nano ceramic</td>\n",
       "    </tr>\n",
       "    <tr>\n",
       "      <th>13</th>\n",
       "      <td>OHD:0001049</td>\n",
       "      <td>glass ceramic in a resin interpenetrating matrix</td>\n",
       "    </tr>\n",
       "    <tr>\n",
       "      <th>14</th>\n",
       "      <td>OHD:0001050</td>\n",
       "      <td>zirconia silica ceramic in a resin interpenetr...</td>\n",
       "    </tr>\n",
       "    <tr>\n",
       "      <th>15</th>\n",
       "      <td>OHD:0001051</td>\n",
       "      <td>feldspathic glass matrix ceramic</td>\n",
       "    </tr>\n",
       "    <tr>\n",
       "      <th>16</th>\n",
       "      <td>OHD:0001052</td>\n",
       "      <td>synthetic glass matrix ceramic</td>\n",
       "    </tr>\n",
       "    <tr>\n",
       "      <th>17</th>\n",
       "      <td>OHD:0001053</td>\n",
       "      <td>leucite based synthetic galss matrix ceramic</td>\n",
       "    </tr>\n",
       "    <tr>\n",
       "      <th>18</th>\n",
       "      <td>OHD:0001054</td>\n",
       "      <td>lithia based synthetic galss matrix ceramic</td>\n",
       "    </tr>\n",
       "    <tr>\n",
       "      <th>19</th>\n",
       "      <td>OHD:0001055</td>\n",
       "      <td>fluorapatite based synthetic galss matrix ceramic</td>\n",
       "    </tr>\n",
       "  </tbody>\n",
       "</table>\n",
       "</div>"
      ],
      "text/plain": [
       "        subject                                              label\n",
       "0   OHD:0001032   glass matrix ceramic dental restoration material\n",
       "1   OHD:0001033                            polycrystalline ceramic\n",
       "2   OHD:0001034                   zirconia polycrystalline ceramic\n",
       "3   OHD:0001035                            3Y-TZP zirconia ceramic\n",
       "4   OHD:0001036                            4Y-PSZ zirconia ceramic\n",
       "5   OHD:0001037                          ≥ 5Y-PSZ zirconia ceramic\n",
       "6   OHD:0001038                    multichromatic zirconia ceramic\n",
       "7   OHD:0001039                      multilayered zirconia ceramic\n",
       "8   OHD:0001040                 polycrystalline composites ceramic\n",
       "9   OHD:0001041                 zirconia toughened alumina ceramic\n",
       "10  OHD:0001046                 alumina toughened zirconia ceramic\n",
       "11  OHD:0001047                               resin matrix ceramic\n",
       "12  OHD:0001048                                 resin nano ceramic\n",
       "13  OHD:0001049   glass ceramic in a resin interpenetrating matrix\n",
       "14  OHD:0001050  zirconia silica ceramic in a resin interpenetr...\n",
       "15  OHD:0001051                   feldspathic glass matrix ceramic\n",
       "16  OHD:0001052                     synthetic glass matrix ceramic\n",
       "17  OHD:0001053       leucite based synthetic galss matrix ceramic\n",
       "18  OHD:0001054        lithia based synthetic galss matrix ceramic\n",
       "19  OHD:0001055  fluorapatite based synthetic galss matrix ceramic"
      ]
     },
     "execution_count": 13,
     "metadata": {},
     "output_type": "execute_result"
    }
   ],
   "source": [
    "logica_lib.RunPredicateFromString(\"\"\"\n",
    "@Engine(\"sqlite\");\n",
    "\n",
    "# recursively find descendants of class\n",
    "ChildOf(x, y) :- statements(subject: x, predicate: \"rdfs:subClassOf\", object: y);\n",
    "DescendantOf(x, y) :- ChildOf(x, y);\n",
    "DescendantOf(x, z) :- ChildOf(x, y), DescendantOf(y, z);\n",
    "\n",
    "# function to return the label of a class\n",
    "Label(x) = value :- statements(subject: x, predicate: \"rdfs:label\", value:);\n",
    "\n",
    "Material(subject:, label:) distinct :- \n",
    "    statements(subject:, object:), \n",
    "    DescendantOf(subject, \"OHD:0000135\"), \n",
    "    label == Label(subject);\n",
    "\n",
    "\"\"\", 'Material', cn)"
   ]
  },
  {
   "cell_type": "markdown",
   "id": "e6ac3321-7c70-4f33-858e-ed8ef913f502",
   "metadata": {},
   "source": [
    "When using the `sqlite` engine, finding only leaf nodes doesn't seem possible. Conceptually, you want all classes with `SubclassCount(x) < 1`. However, `SubclassCount(x) < 1` does not return any classes.  The `sqlite` engine does not seem to be able return a count of `0`."
   ]
  },
  {
   "cell_type": "code",
   "execution_count": 14,
   "id": "ba2b27a7-419c-41b4-87e4-471dd53364ad",
   "metadata": {},
   "outputs": [],
   "source": [
    "# save query to string\n",
    "query = \"\"\"\n",
    "@Engine(\"sqlite\");\n",
    "\n",
    "# recursively find descendants of class\n",
    "ChildOf(x, y) :- statements(subject: x, predicate: \"rdfs:subClassOf\", object: y);\n",
    "DescendantOf(x, y) :- ChildOf(x, y);\n",
    "DescendantOf(x, z) :- ChildOf(x, y), DescendantOf(y, z);\n",
    "\n",
    "# function to return the label of a class\n",
    "Label(x) = value :- statements(subject: x, predicate: \"rdfs:label\", value:);\n",
    "\n",
    "# queries to get list and number of descendants\n",
    "Subclasses(x) List= subject :-\n",
    "    statements(subject:, predicate: \"rdfs:subClassOf\", object:), object == x, subject != object;\n",
    "SubclassCount(x) = Size(Subclasses(x));\n",
    "\n",
    "Material(subject:, label:, x:) distinct :- \n",
    "    statements(subject:, object:), \n",
    "    DescendantOf(subject, \"OHD:0000135\"), \n",
    "    label == Label(subject),\n",
    "    x = SubclassCount(subject),\n",
    "    x {} 1;\n",
    "\"\"\" "
   ]
  },
  {
   "cell_type": "markdown",
   "id": "c3fadf7d-94dc-4d91-8ffd-b31403cb0e0d",
   "metadata": {},
   "source": [
    "set `x < 1` (i.e., `SubclassCount(x) < 1`) and execute query"
   ]
  },
  {
   "cell_type": "code",
   "execution_count": 15,
   "id": "0e0f09d9-cd8d-41d4-b50d-915c01f58150",
   "metadata": {},
   "outputs": [
    {
     "data": {
      "text/html": [
       "<div>\n",
       "<style scoped>\n",
       "    .dataframe tbody tr th:only-of-type {\n",
       "        vertical-align: middle;\n",
       "    }\n",
       "\n",
       "    .dataframe tbody tr th {\n",
       "        vertical-align: top;\n",
       "    }\n",
       "\n",
       "    .dataframe thead th {\n",
       "        text-align: right;\n",
       "    }\n",
       "</style>\n",
       "<table border=\"1\" class=\"dataframe\">\n",
       "  <thead>\n",
       "    <tr style=\"text-align: right;\">\n",
       "      <th></th>\n",
       "      <th>subject</th>\n",
       "      <th>label</th>\n",
       "      <th>x</th>\n",
       "    </tr>\n",
       "  </thead>\n",
       "  <tbody>\n",
       "  </tbody>\n",
       "</table>\n",
       "</div>"
      ],
      "text/plain": [
       "Empty DataFrame\n",
       "Columns: [subject, label, x]\n",
       "Index: []"
      ]
     },
     "execution_count": 15,
     "metadata": {},
     "output_type": "execute_result"
    }
   ],
   "source": [
    "logica_lib.RunPredicateFromString(query.format(\"<\"), 'Material', cn)"
   ]
  },
  {
   "cell_type": "markdown",
   "id": "bafbe400-2cbb-42f5-a708-8469f0b25d1a",
   "metadata": {},
   "source": [
    "set `x > 1` (i.e., `SubclassCount(x) > 1`) and execute query"
   ]
  },
  {
   "cell_type": "code",
   "execution_count": 16,
   "id": "0bc42205-0211-43c5-8f94-7f3f1d709000",
   "metadata": {},
   "outputs": [
    {
     "data": {
      "text/html": [
       "<div>\n",
       "<style scoped>\n",
       "    .dataframe tbody tr th:only-of-type {\n",
       "        vertical-align: middle;\n",
       "    }\n",
       "\n",
       "    .dataframe tbody tr th {\n",
       "        vertical-align: top;\n",
       "    }\n",
       "\n",
       "    .dataframe thead th {\n",
       "        text-align: right;\n",
       "    }\n",
       "</style>\n",
       "<table border=\"1\" class=\"dataframe\">\n",
       "  <thead>\n",
       "    <tr style=\"text-align: right;\">\n",
       "      <th></th>\n",
       "      <th>subject</th>\n",
       "      <th>label</th>\n",
       "      <th>x</th>\n",
       "    </tr>\n",
       "  </thead>\n",
       "  <tbody>\n",
       "    <tr>\n",
       "      <th>0</th>\n",
       "      <td>OHD:0001032</td>\n",
       "      <td>glass matrix ceramic dental restoration material</td>\n",
       "      <td>2</td>\n",
       "    </tr>\n",
       "    <tr>\n",
       "      <th>1</th>\n",
       "      <td>OHD:0001033</td>\n",
       "      <td>polycrystalline ceramic</td>\n",
       "      <td>2</td>\n",
       "    </tr>\n",
       "    <tr>\n",
       "      <th>2</th>\n",
       "      <td>OHD:0001034</td>\n",
       "      <td>zirconia polycrystalline ceramic</td>\n",
       "      <td>5</td>\n",
       "    </tr>\n",
       "    <tr>\n",
       "      <th>3</th>\n",
       "      <td>OHD:0001040</td>\n",
       "      <td>polycrystalline composites ceramic</td>\n",
       "      <td>2</td>\n",
       "    </tr>\n",
       "    <tr>\n",
       "      <th>4</th>\n",
       "      <td>OHD:0001047</td>\n",
       "      <td>resin matrix ceramic</td>\n",
       "      <td>3</td>\n",
       "    </tr>\n",
       "    <tr>\n",
       "      <th>5</th>\n",
       "      <td>OHD:0001052</td>\n",
       "      <td>synthetic glass matrix ceramic</td>\n",
       "      <td>3</td>\n",
       "    </tr>\n",
       "  </tbody>\n",
       "</table>\n",
       "</div>"
      ],
      "text/plain": [
       "       subject                                             label  x\n",
       "0  OHD:0001032  glass matrix ceramic dental restoration material  2\n",
       "1  OHD:0001033                           polycrystalline ceramic  2\n",
       "2  OHD:0001034                  zirconia polycrystalline ceramic  5\n",
       "3  OHD:0001040                polycrystalline composites ceramic  2\n",
       "4  OHD:0001047                              resin matrix ceramic  3\n",
       "5  OHD:0001052                    synthetic glass matrix ceramic  3"
      ]
     },
     "execution_count": 16,
     "metadata": {},
     "output_type": "execute_result"
    }
   ],
   "source": [
    "logica_lib.RunPredicateFromString(query.format(\">\"), 'Material', cn)"
   ]
  },
  {
   "cell_type": "markdown",
   "id": "4fb5e5ad-d127-43d6-93d0-4671af91c27e",
   "metadata": {},
   "source": [
    "Another approach would be to test if the class has child. Leaf nodes would be those without a child. However, the statement `~HasChild(x)` produces the error:\n",
    "```python\n",
    "OperationalError: no such function: MagicalEntangle\n",
    "```\n",
    "See issue [no such function: MagicalEntangle](https://github.com/EvgSkv/logica/issues/361) for discussion.  \n",
    "Uncomment and the block below to see error."
   ]
  },
  {
   "cell_type": "code",
   "execution_count": 17,
   "id": "918985a2-04a5-4c91-a7f5-86af1160840f",
   "metadata": {},
   "outputs": [],
   "source": [
    "# # save query to string\n",
    "# logica_lib.RunPredicateFromString(\"\"\"\n",
    "# @Engine(\"sqlite\");\n",
    "\n",
    "# # recursively find descendants of class\n",
    "# ChildOf(x, y) :- statements(subject: x, predicate: \"rdfs:subClassOf\", object: y);\n",
    "# DescendantOf(x, y) :- ChildOf(x, y);\n",
    "# DescendantOf(x, z) :- ChildOf(x, y), DescendantOf(y, z);\n",
    "\n",
    "# # test if child has a child.\n",
    "# HasChild(x) :- ChildOf(y, x);\n",
    "\n",
    "# # function to return the label of a class\n",
    "# Label(x) = value :- statements(subject: x, predicate: \"rdfs:label\", value:);\n",
    "\n",
    "# # queries to get list and number of descendants\n",
    "# Subclasses(x) List= subject :-\n",
    "#     statements(subject:, predicate: \"rdfs:subClassOf\", object:), object == x, subject != object;\n",
    "# SubclassCount(x) = Size(Subclasses(x));\n",
    "\n",
    "# Material(subject:) distinct :- \n",
    "#     statements(subject:, object:), \n",
    "#     DescendantOf(subject, \"OHD:0000135\"), \n",
    "#     ~HasChild(subject); # <--------- produces MagicalEntangle error\n",
    "# \"\"\", 'Material', cn)"
   ]
  },
  {
   "cell_type": "markdown",
   "id": "0b52e9b1-26ad-4845-80c1-9bd256950e41",
   "metadata": {},
   "source": [
    "Oddly, if I manually define facts about materials, I can then find leaf nodes using `~HasChild(x)`. I do not know why this is.    \n",
    "In this contrived example, `resin nano ceramic` is the only class that doesn't have a child. "
   ]
  },
  {
   "cell_type": "code",
   "execution_count": 18,
   "id": "a3308098-aeaf-4a03-9b0c-528fb3921158",
   "metadata": {},
   "outputs": [
    {
     "data": {
      "text/html": [
       "<div>\n",
       "<style scoped>\n",
       "    .dataframe tbody tr th:only-of-type {\n",
       "        vertical-align: middle;\n",
       "    }\n",
       "\n",
       "    .dataframe tbody tr th {\n",
       "        vertical-align: top;\n",
       "    }\n",
       "\n",
       "    .dataframe thead th {\n",
       "        text-align: right;\n",
       "    }\n",
       "</style>\n",
       "<table border=\"1\" class=\"dataframe\">\n",
       "  <thead>\n",
       "    <tr style=\"text-align: right;\">\n",
       "      <th></th>\n",
       "      <th>subject</th>\n",
       "    </tr>\n",
       "  </thead>\n",
       "  <tbody>\n",
       "    <tr>\n",
       "      <th>0</th>\n",
       "      <td>resin nano ceramic</td>\n",
       "    </tr>\n",
       "  </tbody>\n",
       "</table>\n",
       "</div>"
      ],
      "text/plain": [
       "              subject\n",
       "0  resin nano ceramic"
      ]
     },
     "execution_count": 18,
     "metadata": {},
     "output_type": "execute_result"
    }
   ],
   "source": [
    "# save query to string\n",
    "logica_lib.RunPredicateFromString(\"\"\"\n",
    "@Engine(\"sqlite\");\n",
    "\n",
    "# define facts\n",
    "Material(subject: \"ceramic\", predicate: \"type\", object: \"material\");\n",
    "Material(subject: \"resin\", predicate: \"type\", object: \"ceramic\");\n",
    "Material(subject: \"resin nano ceramic\", predicate: \"type\", object: \"resin\");\n",
    "\n",
    "# recursively find descendants of class\n",
    "ChildOf(x, y) :- Material(subject: x, predicate: \"type\", object: y);\n",
    "DescendantOf(x, y) :- ChildOf(x, y);\n",
    "DescendantOf(x, z) :- ChildOf(x, y), DescendantOf(y, z);\n",
    "\n",
    "# test if child has a child.\n",
    "HasChild(x) :- ChildOf(y, x);\n",
    "\n",
    "# function to return the label of a class\n",
    "Label(x) = value :- statements(subject: x, predicate: \"rdfs:label\", value:);\n",
    "\n",
    "Materials(subject:) distinct :- \n",
    "    Material(subject:, object:), \n",
    "    DescendantOf(subject, \"material\"), \n",
    "    ~HasChild(subject); # <--------- does NOT produce MagicalEntangle error\n",
    "\"\"\", 'Materials')"
   ]
  },
  {
   "cell_type": "code",
   "execution_count": 19,
   "id": "0dd9b245-3eae-4fd7-84c8-73f0957470a4",
   "metadata": {},
   "outputs": [
    {
     "data": {
      "text/html": [
       "<div>\n",
       "<style scoped>\n",
       "    .dataframe tbody tr th:only-of-type {\n",
       "        vertical-align: middle;\n",
       "    }\n",
       "\n",
       "    .dataframe tbody tr th {\n",
       "        vertical-align: top;\n",
       "    }\n",
       "\n",
       "    .dataframe thead th {\n",
       "        text-align: right;\n",
       "    }\n",
       "</style>\n",
       "<table border=\"1\" class=\"dataframe\">\n",
       "  <thead>\n",
       "    <tr style=\"text-align: right;\">\n",
       "      <th></th>\n",
       "      <th>tooth</th>\n",
       "    </tr>\n",
       "  </thead>\n",
       "  <tbody>\n",
       "    <tr>\n",
       "      <th>0</th>\n",
       "      <td>bottom-left canine</td>\n",
       "    </tr>\n",
       "    <tr>\n",
       "      <th>1</th>\n",
       "      <td>bottom-right canine</td>\n",
       "    </tr>\n",
       "    <tr>\n",
       "      <th>2</th>\n",
       "      <td>upper-left canine</td>\n",
       "    </tr>\n",
       "    <tr>\n",
       "      <th>3</th>\n",
       "      <td>upper-right canine</td>\n",
       "    </tr>\n",
       "  </tbody>\n",
       "</table>\n",
       "</div>"
      ],
      "text/plain": [
       "                 tooth\n",
       "0   bottom-left canine\n",
       "1  bottom-right canine\n",
       "2    upper-left canine\n",
       "3   upper-right canine"
      ]
     },
     "execution_count": 19,
     "metadata": {},
     "output_type": "execute_result"
    }
   ],
   "source": [
    "logica_lib.RunPredicateFromString(\"\"\"\n",
    "@Engine(\"sqlite\");\n",
    "\n",
    "# define Tooth facts\n",
    "Tooth(subject: \"tooth\", predicate: \"type\", object: \"tooth\");\n",
    "Tooth(subject: \"canine\", predicate: \"type\", object: \"tooth\");\n",
    "Tooth(subject: \"upper-left canine\", predicate: \"type\", object: \"canine\");\n",
    "Tooth(subject: \"upper-right canine\", predicate: \"type\", object: \"canine\");\n",
    "Tooth(subject: \"bottom-left canine\", predicate: \"type\", object: \"canine\");\n",
    "Tooth(subject: \"bottom-right canine\", predicate: \"type\", object: \"canine\");\n",
    "\n",
    "# recursively find descendants of class\n",
    "ChildOf(x, y) :- Tooth(subject: x, predicate: \"type\", object: y);\n",
    "DescendantOf(x, y) :- ChildOf(x, y);\n",
    "DescendantOf(x, z) :- ChildOf(x, y), DescendantOf(y, z);\n",
    "\n",
    "# test if class is a tooth\n",
    "IsaTooth(x) = y :- y == \"tooth\", DescendantOf(x, y);\n",
    "\n",
    "# test if child has a child.\n",
    "HasChild(x) :- ChildOf(y, x);\n",
    "\n",
    "Teeth(tooth: subject) distinct :- \n",
    "    Tooth(subject:, predicate:, object:),\n",
    "    IsaTooth(subject), \n",
    "    ~HasChild(subject); # <------ does not produce MagicalEntangle error\n",
    "\"\"\", 'Teeth')"
   ]
  },
  {
   "cell_type": "markdown",
   "id": "25762e26-2561-49b8-9e4d-2080a098550a",
   "metadata": {},
   "source": [
    "---"
   ]
  },
  {
   "cell_type": "markdown",
   "id": "9749c5e2-5fb0-4233-a58f-02deef273624",
   "metadata": {},
   "source": [
    "## Working with pandas"
   ]
  },
  {
   "cell_type": "markdown",
   "id": "cd3094cc-35bc-4e50-a453-4200091188a4",
   "metadata": {},
   "source": [
    "You can query `pandas` dataframes in `logica`, but you have to use the `duckdb` engine. After creating the dataframe, you add the dataframe to `logica_lib` module using the `logica_lib.<variable> = <dataframe>`."
   ]
  },
  {
   "cell_type": "code",
   "execution_count": 20,
   "id": "0b5bcbb8-cad6-4d76-9b25-462e2c6e5ae6",
   "metadata": {},
   "outputs": [],
   "source": [
    "xs = np.linspace(1.0, 6.0, 100000000)\n",
    "ys = np.sin(xs)\n",
    "sin_wave = pd.DataFrame({'x': xs, 'y': ys})\n",
    "logica_lib.sin_wave = sin_wave"
   ]
  },
  {
   "cell_type": "code",
   "execution_count": 21,
   "id": "a969f4d0-7a7a-4e3d-b7a4-19bddefc0dcc",
   "metadata": {},
   "outputs": [
    {
     "data": {
      "text/html": [
       "<div>\n",
       "<style scoped>\n",
       "    .dataframe tbody tr th:only-of-type {\n",
       "        vertical-align: middle;\n",
       "    }\n",
       "\n",
       "    .dataframe tbody tr th {\n",
       "        vertical-align: top;\n",
       "    }\n",
       "\n",
       "    .dataframe thead th {\n",
       "        text-align: right;\n",
       "    }\n",
       "</style>\n",
       "<table border=\"1\" class=\"dataframe\">\n",
       "  <thead>\n",
       "    <tr style=\"text-align: right;\">\n",
       "      <th></th>\n",
       "      <th>logica_value</th>\n",
       "    </tr>\n",
       "  </thead>\n",
       "  <tbody>\n",
       "    <tr>\n",
       "      <th>0</th>\n",
       "      <td>3.141593</td>\n",
       "    </tr>\n",
       "  </tbody>\n",
       "</table>\n",
       "</div>"
      ],
      "text/plain": [
       "   logica_value\n",
       "0      3.141593"
      ]
     },
     "execution_count": 21,
     "metadata": {},
     "output_type": "execute_result"
    }
   ],
   "source": [
    "logica_lib.RunPredicateFromString(\"\"\"\n",
    "@Engine(\"duckdb\"); # <--- use duckdb\n",
    "Pi() Min= x :- sin_wave(x:, y:), y < 0;\n",
    "\"\"\", 'Pi', connection=duckdb.connect())"
   ]
  },
  {
   "cell_type": "markdown",
   "id": "9023f250-9493-4240-a839-a2c10dd1c2fa",
   "metadata": {},
   "source": [
    "Using `duckdb` allows you to use negation with producing the `MagicalEntangle` above. So, we can find all the leaf nodes of the tooth branch in the on ontology."
   ]
  },
  {
   "cell_type": "markdown",
   "id": "fd63d1f3-e810-4b08-93b9-1e4d9e56a29e",
   "metadata": {},
   "source": [
    "create dataframe from the statements table"
   ]
  },
  {
   "cell_type": "code",
   "execution_count": 22,
   "id": "d94c3701-a654-4b34-aae5-8c729c0df708",
   "metadata": {},
   "outputs": [
    {
     "data": {
      "text/html": [
       "<div>\n",
       "<style scoped>\n",
       "    .dataframe tbody tr th:only-of-type {\n",
       "        vertical-align: middle;\n",
       "    }\n",
       "\n",
       "    .dataframe tbody tr th {\n",
       "        vertical-align: top;\n",
       "    }\n",
       "\n",
       "    .dataframe thead th {\n",
       "        text-align: right;\n",
       "    }\n",
       "</style>\n",
       "<table border=\"1\" class=\"dataframe\">\n",
       "  <thead>\n",
       "    <tr style=\"text-align: right;\">\n",
       "      <th></th>\n",
       "      <th>stanza</th>\n",
       "      <th>subject</th>\n",
       "      <th>predicate</th>\n",
       "      <th>object</th>\n",
       "      <th>value</th>\n",
       "      <th>datatype</th>\n",
       "      <th>language</th>\n",
       "    </tr>\n",
       "  </thead>\n",
       "  <tbody>\n",
       "    <tr>\n",
       "      <th>0</th>\n",
       "      <td>obo:ohd/components/dental_material.owl</td>\n",
       "      <td>obo:ohd/components/dental_material.owl</td>\n",
       "      <td>rdf:type</td>\n",
       "      <td>owl:Ontology</td>\n",
       "      <td>None</td>\n",
       "      <td>None</td>\n",
       "      <td>None</td>\n",
       "    </tr>\n",
       "    <tr>\n",
       "      <th>1</th>\n",
       "      <td>IAO:0000115</td>\n",
       "      <td>IAO:0000115</td>\n",
       "      <td>rdfs:label</td>\n",
       "      <td>None</td>\n",
       "      <td>definition</td>\n",
       "      <td>None</td>\n",
       "      <td>None</td>\n",
       "    </tr>\n",
       "    <tr>\n",
       "      <th>2</th>\n",
       "      <td>IAO:0000115</td>\n",
       "      <td>IAO:0000115</td>\n",
       "      <td>rdfs:isDefinedBy</td>\n",
       "      <td>obo:ohd/imports/envo_import.owl</td>\n",
       "      <td>None</td>\n",
       "      <td>None</td>\n",
       "      <td>None</td>\n",
       "    </tr>\n",
       "    <tr>\n",
       "      <th>3</th>\n",
       "      <td>IAO:0000115</td>\n",
       "      <td>IAO:0000115</td>\n",
       "      <td>rdfs:isDefinedBy</td>\n",
       "      <td>obo:ohd/imports/chebi_import.owl</td>\n",
       "      <td>None</td>\n",
       "      <td>None</td>\n",
       "      <td>None</td>\n",
       "    </tr>\n",
       "    <tr>\n",
       "      <th>4</th>\n",
       "      <td>IAO:0000115</td>\n",
       "      <td>IAO:0000115</td>\n",
       "      <td>rdf:type</td>\n",
       "      <td>owl:AnnotationProperty</td>\n",
       "      <td>None</td>\n",
       "      <td>None</td>\n",
       "      <td>None</td>\n",
       "    </tr>\n",
       "  </tbody>\n",
       "</table>\n",
       "</div>"
      ],
      "text/plain": [
       "                                   stanza  \\\n",
       "0  obo:ohd/components/dental_material.owl   \n",
       "1                             IAO:0000115   \n",
       "2                             IAO:0000115   \n",
       "3                             IAO:0000115   \n",
       "4                             IAO:0000115   \n",
       "\n",
       "                                  subject         predicate  \\\n",
       "0  obo:ohd/components/dental_material.owl          rdf:type   \n",
       "1                             IAO:0000115        rdfs:label   \n",
       "2                             IAO:0000115  rdfs:isDefinedBy   \n",
       "3                             IAO:0000115  rdfs:isDefinedBy   \n",
       "4                             IAO:0000115          rdf:type   \n",
       "\n",
       "                             object       value datatype language  \n",
       "0                      owl:Ontology        None     None     None  \n",
       "1                              None  definition     None     None  \n",
       "2   obo:ohd/imports/envo_import.owl        None     None     None  \n",
       "3  obo:ohd/imports/chebi_import.owl        None     None     None  \n",
       "4            owl:AnnotationProperty        None     None     None  "
      ]
     },
     "execution_count": 22,
     "metadata": {},
     "output_type": "execute_result"
    }
   ],
   "source": [
    "statements_df = pd.read_sql_query(\"select * from statements\", cn)\n",
    "statements_df.head()"
   ]
  },
  {
   "cell_type": "markdown",
   "id": "68cd572d-5c00-466f-8a64-cb16839fade3",
   "metadata": {},
   "source": [
    "assign `statements_df` to the `logica_lib.statements` variable "
   ]
  },
  {
   "cell_type": "code",
   "execution_count": 23,
   "id": "4e122c75-f1bd-476d-974f-151b77f01262",
   "metadata": {},
   "outputs": [],
   "source": [
    "logica_lib.statements = statements_df"
   ]
  },
  {
   "cell_type": "markdown",
   "id": "2adb8dbc-92d1-40b2-aeb8-af1aa7c63f15",
   "metadata": {},
   "source": [
    "find leaf nodes using `~HasChild(x)`"
   ]
  },
  {
   "cell_type": "code",
   "execution_count": 24,
   "id": "f3b497c3-1f97-46ae-9ef2-fdd2c77044ab",
   "metadata": {},
   "outputs": [
    {
     "data": {
      "text/html": [
       "<div>\n",
       "<style scoped>\n",
       "    .dataframe tbody tr th:only-of-type {\n",
       "        vertical-align: middle;\n",
       "    }\n",
       "\n",
       "    .dataframe tbody tr th {\n",
       "        vertical-align: top;\n",
       "    }\n",
       "\n",
       "    .dataframe thead th {\n",
       "        text-align: right;\n",
       "    }\n",
       "</style>\n",
       "<table border=\"1\" class=\"dataframe\">\n",
       "  <thead>\n",
       "    <tr style=\"text-align: right;\">\n",
       "      <th></th>\n",
       "      <th>subject</th>\n",
       "      <th>label</th>\n",
       "    </tr>\n",
       "  </thead>\n",
       "  <tbody>\n",
       "    <tr>\n",
       "      <th>0</th>\n",
       "      <td>OHD:0001051</td>\n",
       "      <td>feldspathic glass matrix ceramic</td>\n",
       "    </tr>\n",
       "    <tr>\n",
       "      <th>1</th>\n",
       "      <td>OHD:0001038</td>\n",
       "      <td>multichromatic zirconia ceramic</td>\n",
       "    </tr>\n",
       "    <tr>\n",
       "      <th>2</th>\n",
       "      <td>OHD:0001035</td>\n",
       "      <td>3Y-TZP zirconia ceramic</td>\n",
       "    </tr>\n",
       "    <tr>\n",
       "      <th>3</th>\n",
       "      <td>OHD:0001055</td>\n",
       "      <td>fluorapatite based synthetic galss matrix ceramic</td>\n",
       "    </tr>\n",
       "    <tr>\n",
       "      <th>4</th>\n",
       "      <td>OHD:0001050</td>\n",
       "      <td>zirconia silica ceramic in a resin interpenetr...</td>\n",
       "    </tr>\n",
       "    <tr>\n",
       "      <th>5</th>\n",
       "      <td>OHD:0001053</td>\n",
       "      <td>leucite based synthetic galss matrix ceramic</td>\n",
       "    </tr>\n",
       "    <tr>\n",
       "      <th>6</th>\n",
       "      <td>OHD:0001048</td>\n",
       "      <td>resin nano ceramic</td>\n",
       "    </tr>\n",
       "    <tr>\n",
       "      <th>7</th>\n",
       "      <td>OHD:0001054</td>\n",
       "      <td>lithia based synthetic galss matrix ceramic</td>\n",
       "    </tr>\n",
       "    <tr>\n",
       "      <th>8</th>\n",
       "      <td>OHD:0001036</td>\n",
       "      <td>4Y-PSZ zirconia ceramic</td>\n",
       "    </tr>\n",
       "    <tr>\n",
       "      <th>9</th>\n",
       "      <td>OHD:0001037</td>\n",
       "      <td>≥ 5Y-PSZ zirconia ceramic</td>\n",
       "    </tr>\n",
       "    <tr>\n",
       "      <th>10</th>\n",
       "      <td>OHD:0001039</td>\n",
       "      <td>multilayered zirconia ceramic</td>\n",
       "    </tr>\n",
       "    <tr>\n",
       "      <th>11</th>\n",
       "      <td>OHD:0001046</td>\n",
       "      <td>alumina toughened zirconia ceramic</td>\n",
       "    </tr>\n",
       "    <tr>\n",
       "      <th>12</th>\n",
       "      <td>OHD:0001041</td>\n",
       "      <td>zirconia toughened alumina ceramic</td>\n",
       "    </tr>\n",
       "    <tr>\n",
       "      <th>13</th>\n",
       "      <td>OHD:0001049</td>\n",
       "      <td>glass ceramic in a resin interpenetrating matrix</td>\n",
       "    </tr>\n",
       "  </tbody>\n",
       "</table>\n",
       "</div>"
      ],
      "text/plain": [
       "        subject                                              label\n",
       "0   OHD:0001051                   feldspathic glass matrix ceramic\n",
       "1   OHD:0001038                    multichromatic zirconia ceramic\n",
       "2   OHD:0001035                            3Y-TZP zirconia ceramic\n",
       "3   OHD:0001055  fluorapatite based synthetic galss matrix ceramic\n",
       "4   OHD:0001050  zirconia silica ceramic in a resin interpenetr...\n",
       "5   OHD:0001053       leucite based synthetic galss matrix ceramic\n",
       "6   OHD:0001048                                 resin nano ceramic\n",
       "7   OHD:0001054        lithia based synthetic galss matrix ceramic\n",
       "8   OHD:0001036                            4Y-PSZ zirconia ceramic\n",
       "9   OHD:0001037                          ≥ 5Y-PSZ zirconia ceramic\n",
       "10  OHD:0001039                      multilayered zirconia ceramic\n",
       "11  OHD:0001046                 alumina toughened zirconia ceramic\n",
       "12  OHD:0001041                 zirconia toughened alumina ceramic\n",
       "13  OHD:0001049   glass ceramic in a resin interpenetrating matrix"
      ]
     },
     "execution_count": 24,
     "metadata": {},
     "output_type": "execute_result"
    }
   ],
   "source": [
    "# save query to string\n",
    "logica_lib.RunPredicateFromString(\"\"\"\n",
    "@Engine(\"duckdb\"); # <------- using duckdb engine\n",
    "\n",
    "# recursively find descendants of class\n",
    "ChildOf(x, y) :- statements(subject: x, predicate: \"rdfs:subClassOf\", object: y);\n",
    "DescendantOf(x, y) :- ChildOf(x, y);\n",
    "DescendantOf(x, z) :- ChildOf(x, y), DescendantOf(y, z);\n",
    "\n",
    "# test if child has a child.\n",
    "HasChild(x) :- ChildOf(y, x);\n",
    "\n",
    "# function to return the label of a class\n",
    "Label(x) = value :- statements(subject: x, predicate: \"rdfs:label\", value:);\n",
    "\n",
    "# queries to get list and number of descendants\n",
    "Subclasses(x) List= subject :-\n",
    "    statements(subject:, predicate: \"rdfs:subClassOf\", object:), object == x, subject != object;\n",
    "SubclassCount(x) = Size(Subclasses(x));\n",
    "\n",
    "Material(subject:, label:) distinct :- \n",
    "    statements(subject:, object:), \n",
    "    DescendantOf(subject, \"OHD:0000135\"), \n",
    "    label == Label(subject), \n",
    "    ~HasChild(subject); # <------- filters results to classes that don't have children\n",
    "\"\"\", 'Material', connection=duckdb.connect())"
   ]
  },
  {
   "cell_type": "code",
   "execution_count": null,
   "id": "cd49f1a0-fabb-42f7-ab1a-1114734e1c1d",
   "metadata": {},
   "outputs": [],
   "source": []
  }
 ],
 "metadata": {
  "kernelspec": {
   "display_name": "Python 3 (ipykernel)",
   "language": "python",
   "name": "python3"
  },
  "language_info": {
   "codemirror_mode": {
    "name": "ipython",
    "version": 3
   },
   "file_extension": ".py",
   "mimetype": "text/x-python",
   "name": "python",
   "nbconvert_exporter": "python",
   "pygments_lexer": "ipython3",
   "version": "3.11.10"
  }
 },
 "nbformat": 4,
 "nbformat_minor": 5
}
